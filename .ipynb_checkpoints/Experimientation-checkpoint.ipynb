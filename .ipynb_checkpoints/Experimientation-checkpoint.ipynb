{
 "cells": [
  {
   "cell_type": "code",
   "execution_count": 1,
   "id": "e54ea027-e7c4-4535-a0e4-dbd7bac704f6",
   "metadata": {},
   "outputs": [
    {
     "name": "stdout",
     "output_type": "stream",
     "text": [
      "\n",
      "0: 480x640 1 spoon, 1 apple, 1 orange, 1 mouse, 2 remotes, 1 keyboard, 1 toothbrush, 297.0ms\n",
      "Speed: 0.0ms preprocess, 297.0ms inference, 0.0ms postprocess per image at shape (1, 3, 480, 640)\n"
     ]
    }
   ],
   "source": [
    "import cv2\n",
    "import numpy as np\n",
    "import os\n",
    "from ultralytics import YOLO\n",
    "\n",
    "# Cargar YOLOv8\n",
    "model = YOLO('yolov8n.pt')  # Carga el modelo YOLOv8n preentrenado\n",
    "\n",
    "# Obtener la lista de archivos en la carpeta\n",
    "folder_path = \"images\"\n",
    "image_files = [f for f in os.listdir(folder_path) if f.endswith(('.jpg', '.jpeg'))]\n",
    "\n",
    "# Inicializar una lista para almacenar todas las imágenes con objetos detectados\n",
    "combined_image = None\n",
    "\n",
    "# Iterar sobre las imágenes y detectar objetos\n",
    "for image_file in image_files:\n",
    "    # Cargar imagen\n",
    "    image_path = os.path.join(folder_path, image_file)\n",
    "    image = cv2.imread(image_path)\n",
    "    if image is None:\n",
    "        continue  # Saltar archivos que no se puedan cargar como imágenes\n",
    "    height, width, channels = image.shape\n",
    "\n",
    "    # Detectar objetos\n",
    "    results = model(image)\n",
    "\n",
    "    # Dibujar las cajas alrededor de los objetos detectados\n",
    "    for result in results:\n",
    "        boxes = result.boxes.xyxy.numpy()\n",
    "        confidences = result.boxes.conf.numpy()\n",
    "        class_ids = result.boxes.cls.numpy().astype(int)\n",
    "        labels = [model.names[int(cls)] for cls in class_ids]\n",
    "\n",
    "        for box, confidence, label in zip(boxes, confidences, labels):\n",
    "            if confidence > 0.1: # Solo dibujar si la confianza es mayor que 0.5\n",
    "                x1, y1, x2, y2 = map(int, box)\n",
    "                color = (0, 255, 0)\n",
    "                cv2.rectangle(image, (x1, y1), (x2, y2), color, 2)\n",
    "                fontScale = 2  # Ajusta este valor para aumentar el tamaño del texto\n",
    "                text = f\"{label} {confidence:.2f}\"  # Agregar la confianza al texto\n",
    "                cv2.putText(image, text, (x1, y1 - 10), cv2.FONT_HERSHEY_PLAIN, fontScale, color, 2)\n",
    "\n",
    "    # Redimensionar la imagen para que todas tengan la misma altura\n",
    "    desired_height = 800  # Especifica la altura deseada para todas las imágenes\n",
    "    ratio = desired_height / height\n",
    "    image_resized = cv2.resize(image, (int(width * ratio), desired_height))\n",
    "\n",
    "    # Concatenar la imagen actual con las imágenes anteriores\n",
    "    if combined_image is None:\n",
    "        combined_image = image_resized\n",
    "    else:\n",
    "        combined_image = np.hstack((combined_image, image_resized))\n",
    "\n",
    "# Mostrar la imagen resultante con todas las imágenes combinadas\n",
    "cv2.imshow(\"Combined Image\", combined_image)\n",
    "cv2.waitKey(0)\n",
    "cv2.destroyAllWindows()\n"
   ]
  },
  {
   "cell_type": "code",
   "execution_count": null,
   "id": "9b5f2b5a-a586-4215-af5d-acec98944f92",
   "metadata": {},
   "outputs": [],
   "source": []
  }
 ],
 "metadata": {
  "kernelspec": {
   "display_name": "Python 3 (ipykernel)",
   "language": "python",
   "name": "python3"
  },
  "language_info": {
   "codemirror_mode": {
    "name": "ipython",
    "version": 3
   },
   "file_extension": ".py",
   "mimetype": "text/x-python",
   "name": "python",
   "nbconvert_exporter": "python",
   "pygments_lexer": "ipython3",
   "version": "3.10.13"
  }
 },
 "nbformat": 4,
 "nbformat_minor": 5
}
