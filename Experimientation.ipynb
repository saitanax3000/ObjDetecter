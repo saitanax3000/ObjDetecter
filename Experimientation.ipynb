{
 "cells": [
  {
   "cell_type": "code",
   "execution_count": 10,
   "id": "e54ea027-e7c4-4535-a0e4-dbd7bac704f6",
   "metadata": {},
   "outputs": [
    {
     "name": "stdout",
     "output_type": "stream",
     "text": [
      "\n",
      "0: 448x640 3 bananas, 12 apples, 6 oranges, 272.9ms\n",
      "Speed: 6.2ms preprocess, 272.9ms inference, 3.1ms postprocess per image at shape (1, 3, 448, 640)\n"
     ]
    }
   ],
   "source": [
    "import cv2\n",
    "import numpy as np\n",
    "import os\n",
    "from ultralytics import YOLO\n",
    "from torch.utils import data\n",
    "\n",
    "# Cargar YOLOv8\n",
    "model = YOLO('yolov8n.pt')  # Carga el modelo YOLOv8n preentrenado\n",
    "\n",
    "# Obtener la lista de archivos en la carpeta\n",
    "folder_path = \"images\"  # Carpeta que contiene las imágenes\n",
    "image_files = [f for f in os.listdir(folder_path) if f.endswith(('.jpg', '.jpeg', 'png'))]  # Lista de archivos de imagen\n",
    "\n",
    "# Inicializar una lista para almacenar todas las imágenes con objetos detectados\n",
    "combined_image = None  # Imagen combinada inicializada como None\n",
    "\n",
    "# Iterar sobre las imágenes y detectar objetos\n",
    "for image_file in image_files:\n",
    "    # Cargar imagen\n",
    "    image_path = os.path.join(folder_path, image_file)  # Ruta completa de la imagen\n",
    "    image = cv2.imread(image_path)  # Cargar la imagen usando OpenCV\n",
    "    if image is None:\n",
    "        continue  # Saltar archivos que no se puedan cargar como imágenes\n",
    "    height, width, channels = image.shape  # Obtener dimensiones de la imagen\n",
    "\n",
    "    # Detectar objetos\n",
    "    results = model(image)  # Ejecutar el modelo YOLO para detectar objetos en la imagen\n",
    "\n",
    "    # Dibujar las cajas alrededor de los objetos detectados\n",
    "    for result in results:\n",
    "        boxes = result.boxes.xyxy.numpy()  # Coordenadas de las cajas (esquinas superior izquierda e inferior derecha)\n",
    "        confidences = result.boxes.conf.numpy()  # Confianza de cada detección\n",
    "        class_ids = result.boxes.cls.numpy().astype(int)  # IDs de clase de los objetos detectados\n",
    "        labels = [model.names[int(cls)] for cls in class_ids]  # Nombres de las clases detectadas\n",
    "\n",
    "        for box, confidence, label in zip(boxes, confidences, labels):\n",
    "            if confidence > 0.1:  # Solo dibujar si la confianza es mayor que 0.1\n",
    "                x1, y1, x2, y2 = map(int, box)  # Coordenadas de la caja convertidas a enteros\n",
    "                color = (0, 255, 0)  # Color verde para las cajas\n",
    "                cv2.rectangle(image, (x1, y1), (x2, y2), color, 2)  # Dibujar la caja\n",
    "                fontScale = 1 # Ajusta este valor para aumentar el tamaño del texto\n",
    "                text = f\"{label} {confidence:.2f}\"  # Agregar la confianza al texto\n",
    "                cv2.putText(image, text, (x1, y1 - 10), cv2.FONT_HERSHEY_PLAIN, fontScale, color, 2)  # Dibujar el texto\n",
    "\n",
    "    # Redimensionar la imagen para que todas tengan la misma altura\n",
    "    desired_height = 600  # Especifica la altura deseada para todas las imágenes\n",
    "    ratio = desired_height / height  # Calcular el ratio de redimensionamiento\n",
    "    image_resized = cv2.resize(image, (int(width * ratio), desired_height))  # Redimensionar la imagen\n",
    "\n",
    "    # Concatenar la imagen actual con las imágenes anteriores\n",
    "    if combined_image is None:\n",
    "        combined_image = image_resized  # Si es la primera imagen, establecer como imagen combinada\n",
    "    else:\n",
    "        combined_image = np.hstack((combined_image, image_resized))  # Concatenar horizontalmente\n",
    "\n",
    "# Mostrar la imagen resultante con todas las imágenes combinadas\n",
    "cv2.imshow(\"Combined Image\", combined_image)  # Mostrar la imagen combinada\n",
    "cv2.waitKey(0)  # Esperar a que se presione una tecla\n",
    "cv2.destroyAllWindows()  # Cerrar todas las ventanas de OpenCV\n"
   ]
  },
  {
   "cell_type": "code",
   "execution_count": null,
   "id": "9b5f2b5a-a586-4215-af5d-acec98944f92",
   "metadata": {},
   "outputs": [],
   "source": []
  }
 ],
 "metadata": {
  "kernelspec": {
   "display_name": "Python 3 (ipykernel)",
   "language": "python",
   "name": "python3"
  },
  "language_info": {
   "codemirror_mode": {
    "name": "ipython",
    "version": 3
   },
   "file_extension": ".py",
   "mimetype": "text/x-python",
   "name": "python",
   "nbconvert_exporter": "python",
   "pygments_lexer": "ipython3",
   "version": "3.10.13"
  }
 },
 "nbformat": 4,
 "nbformat_minor": 5
}
